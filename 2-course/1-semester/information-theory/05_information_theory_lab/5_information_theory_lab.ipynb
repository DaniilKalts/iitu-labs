{
 "cells": [
  {
   "cell_type": "markdown",
   "id": "e6e5a11d-35f2-4bba-98e9-1d395aed9e7e",
   "metadata": {},
   "source": [
    "### Step 1 — Imports & parameters\n",
    "Set the random seed for reproducibility, choose the sample size n, and prepare a vector of flip\n",
    "probabilities e to sweep."
   ]
  },
  {
   "cell_type": "code",
   "execution_count": 2,
   "id": "f3ed7e2f-449f-4490-9b7a-dad45b0be9b9",
   "metadata": {},
   "outputs": [],
   "source": [
    "import numpy as np\n",
    "import matplotlib.pyplot as plt\n",
    "\n",
    "rng = np.random.default_rng(0)\n",
    "n = 100_000 # number of bits\n",
    "es = np.linspace(0.0, 0.5, 21) # 0, 0.025, ..., 0.5"
   ]
  },
  {
   "cell_type": "markdown",
   "id": "69c92b88-f107-4a68-a91d-de4379b64fb6",
   "metadata": {},
   "source": [
    "### Step 2 — Generate random input bits\n",
    "Use {0,1} bits uniformly at random. For other experiments you can try biased inputs; for BER on\n",
    "a BSC the result is the same for i.i.d. inputs."
   ]
  },
  {
   "cell_type": "code",
   "execution_count": 3,
   "id": "239ff216-d9db-4411-8e07-f001558b530d",
   "metadata": {},
   "outputs": [],
   "source": [
    "X = rng.integers(0, 2, size=n) # 0/1 equiprobable"
   ]
  },
  {
   "cell_type": "markdown",
   "id": "7305cca0-4cdf-416e-a8c9-900864858995",
   "metadata": {},
   "source": [
    "### Step 3 — BSC simulation function\n",
    "Flip each bit independently with probability e, using XOR to apply flips efficiently."
   ]
  },
  {
   "cell_type": "code",
   "execution_count": 5,
   "id": "6f95dc14-4b87-4dd7-b918-c7d35361f684",
   "metadata": {},
   "outputs": [],
   "source": [
    "def bsc_transmit(bits, e, rng=None):\n",
    "    rng = np.random.default_rng(rng)\n",
    "    flips = (rng.random(len(bits)) < e).astype(int)\n",
    "    return bits ^ flips # XOR flips bits where flips==1"
   ]
  },
  {
   "cell_type": "markdown",
   "id": "992a28d4-fe8f-412e-a30d-cecb24fd4821",
   "metadata": {},
   "source": [
    "### Step 4 — BER computation\n",
    "The Bit Error Rate is the fraction of positions where input and output differ."
   ]
  },
  {
   "cell_type": "code",
   "execution_count": 6,
   "id": "3be190fd-cf01-4930-b293-74349e29cf88",
   "metadata": {},
   "outputs": [],
   "source": [
    "def ber(x, y):\n",
    "    return np.mean(x != y)"
   ]
  },
  {
   "cell_type": "markdown",
   "id": "1e9e74e5-8c98-48fc-abc2-4fb6587168f8",
   "metadata": {},
   "source": [
    "### Step 5 — Sweep e and record empirical BER\n",
    "Compute BER for each e; then plot a single clean figure of BER vs e."
   ]
  },
  {
   "cell_type": "code",
   "execution_count": 7,
   "id": "531bffb9-6e07-4694-a8d5-2b0e82085cf7",
   "metadata": {},
   "outputs": [
    {
     "data": {
      "image/png": "[encoded data removed]",
      "text/plain": [
       "<Figure size 640x480 with 1 Axes>"
      ]
     },
     "metadata": {},
     "output_type": "display_data"
    }
   ],
   "source": [
    "bers = []\n",
    "for e in es:\n",
    "    Y = bsc_transmit(X, e=e, rng=42) # fixed seed for repeatability\n",
    "    bers.append(ber(X, Y))\n",
    "\n",
    "plt.figure()\n",
    "plt.plot(es, bers, marker='o')\n",
    "plt.xlabel('Flip probability e')\n",
    "plt.ylabel('Bit Error Rate (BER)')\n",
    "plt.title('BSC: BER vs e')\n",
    "plt.grid(True)\n",
    "plt.show()"
   ]
  },
  {
   "cell_type": "markdown",
   "id": "7f04996a-f2de-4ddb-b8e1-13690d8b713d",
   "metadata": {},
   "source": [
    "### Step 6 — Compare to theory\n",
    "For a BSC with i.i.d. input, the expected BER equals e. Show the numeric difference to verify\n",
    "Monte‑Carlo accuracy."
   ]
  },
  {
   "cell_type": "code",
   "execution_count": 9,
   "id": "787d0439-911a-45f1-ac56-c36adf545479",
   "metadata": {},
   "outputs": [
    {
     "name": "stdout",
     "output_type": "stream",
     "text": [
      "e=0.000 BER=0.00000 (BER - e)=+0.00000\n",
      "e=0.025 BER=0.02529 (BER - e)=+0.00029\n",
      "e=0.050 BER=0.05046 (BER - e)=+0.00046\n",
      "e=0.075 BER=0.07455 (BER - e)=-0.00045\n",
      "e=0.100 BER=0.09916 (BER - e)=-0.00084\n",
      "e=0.125 BER=0.12454 (BER - e)=-0.00046\n",
      "e=0.150 BER=0.14931 (BER - e)=-0.00069\n",
      "e=0.175 BER=0.17467 (BER - e)=-0.00033\n",
      "e=0.200 BER=0.19921 (BER - e)=-0.00079\n",
      "e=0.225 BER=0.22464 (BER - e)=-0.00036\n",
      "e=0.250 BER=0.24948 (BER - e)=-0.00052\n",
      "e=0.275 BER=0.27498 (BER - e)=-0.00002\n",
      "e=0.300 BER=0.29935 (BER - e)=-0.00065\n",
      "e=0.325 BER=0.32405 (BER - e)=-0.00095\n",
      "e=0.350 BER=0.34857 (BER - e)=-0.00143\n",
      "e=0.375 BER=0.37361 (BER - e)=-0.00139\n",
      "e=0.400 BER=0.39779 (BER - e)=-0.00221\n",
      "e=0.425 BER=0.42321 (BER - e)=-0.00179\n",
      "e=0.450 BER=0.44819 (BER - e)=-0.00181\n",
      "e=0.475 BER=0.47258 (BER - e)=-0.00242\n",
      "e=0.500 BER=0.49743 (BER - e)=-0.00257\n"
     ]
    }
   ],
   "source": [
    "diff = np.array(bers) - es\n",
    "for e, b, d in zip(es, bers, diff):\n",
    "    print(f\"e={e:0.3f} BER={b:0.5f} (BER - e)={d:+0.5f}\")"
   ]
  },
  {
   "cell_type": "markdown",
   "id": "68a15c35-5611-45c6-93fc-c09297bb5943",
   "metadata": {},
   "source": [
    "### Step 7 — (Optional) Confidence intervals & sample size\n",
    "The BER estimator is binomial with variance e(1−e)/n. Use ±1.96·sqrt(e(1−e)/n) to gauge\n",
    "expected fluctuations, and see how increasing n tightens the interval."
   ]
  },
  {
   "cell_type": "code",
   "execution_count": 11,
   "id": "c8bbcf85-47b6-4bad-807d-97df4887161d",
   "metadata": {},
   "outputs": [
    {
     "name": "stdout",
     "output_type": "stream",
     "text": [
      "e=0.05 95% CI half-width ≈ 0.00135\n",
      "e=0.10 95% CI half-width ≈ 0.00186\n",
      "e=0.20 95% CI half-width ≈ 0.00248\n",
      "e=0.30 95% CI half-width ≈ 0.00284\n"
     ]
    }
   ],
   "source": [
    "def ber_ci_width(e, n, z=1.96):\n",
    "    import numpy as np\n",
    "    var = e*(1-e)/n\n",
    "    return z*np.sqrt(var)\n",
    "\n",
    "for e in [0.05, 0.1, 0.2, 0.3]:\n",
    "    w = ber_ci_width(e, n)\n",
    "    print(f\"e={e:.2f} 95% CI half-width ≈ {w:.5f}\")"
   ]
  },
  {
   "cell_type": "code",
   "execution_count": null,
   "id": "59d1809c-c855-43f0-bbed-1dd46a90a002",
   "metadata": {},
   "outputs": [],
   "source": []
  }
 ],
 "metadata": {
  "kernelspec": {
   "display_name": "Python 3 (ipykernel)",
   "language": "python",
   "name": "python3"
  },
  "language_info": {
   "codemirror_mode": {
    "name": "ipython",
    "version": 3
   },
   "file_extension": ".py",
   "mimetype": "text/x-python",
   "name": "python",
   "nbconvert_exporter": "python",
   "pygments_lexer": "ipython3",
   "version": "3.13.7"
  }
 },
 "nbformat": 4,
 "nbformat_minor": 5
}

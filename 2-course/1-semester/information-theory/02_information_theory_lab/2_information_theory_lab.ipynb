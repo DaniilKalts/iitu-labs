{
 "cells": [
  {
   "cell_type": "markdown",
   "id": "39deac58-4694-4b29-9378-6bfa6d6b3fd5",
   "metadata": {},
   "source": [
    "### Step 1 — Set up imports"
   ]
  },
  {
   "cell_type": "code",
   "execution_count": 49,
   "id": "beef5e37-b674-4bcc-b614-92d3296ab54c",
   "metadata": {},
   "outputs": [],
   "source": [
    "import numpy as np \n",
    "import math \n",
    "import matplotlib.pyplot as plt \n",
    "from collections import Counter "
   ]
  },
  {
   "cell_type": "markdown",
   "id": "1513e293-d74e-4fa1-8832-9e6b78f970be",
   "metadata": {},
   "source": [
    "### Step 2 — Generate binary source X \n",
    "Generate a random binary sequence (0/1) of length n. "
   ]
  },
  {
   "cell_type": "code",
   "execution_count": 46,
   "id": "c2bba8c1-ec05-44d4-bf03-87cf3bb34fd2",
   "metadata": {},
   "outputs": [],
   "source": [
    "n = 100000 \n",
    "rng = np.random.default_rng(0) \n",
    "X = rng.integers(0, 2, size=n)"
   ]
  },
  {
   "cell_type": "markdown",
   "id": "bf55192f-ab7f-4608-9e04-c46491806e5a",
   "metadata": {},
   "source": [
    "### Step 3 — Simulate noisy channel \n",
    "Pass X through a Binary Symmetric Channel (BSC) with error probability e. "
   ]
  },
  {
   "cell_type": "code",
   "execution_count": 41,
   "id": "9c8fb446-6911-4e09-97b7-59497f08e0d3",
   "metadata": {},
   "outputs": [],
   "source": [
    "def bsc_channel(X, e=0.1, rng=None): \n",
    "    rng = np.random.default_rng(rng) \n",
    "    noise = (rng.random(len(X)) < e).astype(int)\n",
    "    Y = X ^ noise \n",
    "    return Y \n",
    " \n",
    "Y = bsc_channel(X, e=0.1, rng=1)"
   ]
  },
  {
   "cell_type": "markdown",
   "id": "211645a0-9578-4fcc-9a1b-db7cfb2af39d",
   "metadata": {},
   "source": [
    "### Step 4 — Build joint distribution p(x,y) "
   ]
  },
  {
   "cell_type": "code",
   "execution_count": 48,
   "id": "fdda2531-bd78-4cf4-b36f-528cc787ad5b",
   "metadata": {},
   "outputs": [
    {
     "name": "stdout",
     "output_type": "stream",
     "text": [
      "Joint distribution: {(np.int64(0), np.int64(0)): np.float64(0.44964), (np.int64(0), np.int64(1)): np.float64(0.05078), (np.int64(1), np.int64(0)): np.float64(0.04909), (np.int64(1), np.int64(1)): np.float64(0.45049)}\n"
     ]
    }
   ],
   "source": [
    "def joint_pmf(xs, ys): \n",
    "    assert len(xs) == len(ys) \n",
    "    n = len(xs) \n",
    "    pairs = list(zip(xs, ys)) \n",
    "    counts = Counter(pairs) \n",
    "    keys = sorted(counts.keys()) \n",
    "    ps = np.array([counts[k]/n for k in keys], float) \n",
    "    return keys, ps \n",
    " \n",
    "keys, pxy = joint_pmf(X, Y) \n",
    "print(\"Joint distribution:\", dict(zip(keys, pxy))) "
   ]
  },
  {
   "cell_type": "markdown",
   "id": "e5c6dfe8-9386-42d8-a3b7-87f04f23c385",
   "metadata": {},
   "source": [
    "### Step 5 — Compute mutual information "
   ]
  },
  {
   "cell_type": "code",
   "execution_count": 12,
   "id": "394197c6-6eef-4492-a1af-953c64aa807d",
   "metadata": {},
   "outputs": [
    {
     "name": "stdout",
     "output_type": "stream",
     "text": [
      "Estimated I(X;Y) at e=0.1: 0.5314 bits\n"
     ]
    }
   ],
   "source": [
    "def marginal_from_joint(keys, ps, axis=0): \n",
    "    vals = sorted(set(k[axis] for k in keys)) \n",
    "    pm = [] \n",
    "    for v in vals: \n",
    "        p = ps[[i for i,k in enumerate(keys) if k[axis]==v]].sum() \n",
    "        pm.append(p) \n",
    "    return dict(zip(vals, pm)) \n",
    " \n",
    "def mutual_information(keys, ps): \n",
    "    px = marginal_from_joint(keys, ps, axis=0) \n",
    "    py = marginal_from_joint(keys, ps, axis=1) \n",
    "    I = 0.0 \n",
    "    for (x,y), pxy in zip(keys, ps): \n",
    "        if pxy > 0: \n",
    "            I += pxy * math.log2(pxy / (px[x] * py[y])) \n",
    "    return I \n",
    " \n",
    "I_est = mutual_information(keys, pxy) \n",
    "print(f\"Estimated I(X;Y) at e=0.1: {I_est:.4f} bits\") "
   ]
  },
  {
   "cell_type": "markdown",
   "id": "229ee52e-3d31-448c-ad71-f63378ebca1b",
   "metadata": {},
   "source": [
    "### Step 6 — Sweep noise probability and plot "
   ]
  },
  {
   "cell_type": "code",
   "execution_count": 13,
   "id": "faa9aef8-1cfb-4d73-8512-b31116f81478",
   "metadata": {},
   "outputs": [
    {
     "data": {
      "text/plain": [
       "Text(0, 0.5, 'Mutual Information I(X;Y) [bits]')"
      ]
     },
     "execution_count": 13,
     "metadata": {},
     "output_type": "execute_result"
    },
    {
     "data": {
      "image/png": "[encoded data removed]",
      "text/plain": [
       "<Figure size 640x480 with 1 Axes>"
      ]
     },
     "metadata": {},
     "output_type": "display_data"
    }
   ],
   "source": [
    "es = np.linspace(0, 0.5, 21) \n",
    "Is = [] \n",
    " \n",
    "for e in es: \n",
    "    Y = bsc_channel(X, e=e, rng=42) \n",
    "    keys, pxy = joint_pmf(X, Y) \n",
    "    I = mutual_information(keys, pxy) \n",
    "    Is.append(I) \n",
    " \n",
    "plt.plot(es, Is, marker='o') \n",
    "plt.xlabel(\"Flip probability e\") \n",
    "plt.ylabel(\"Mutual Information I(X;Y) [bits]\") "
   ]
  }
 ],
 "metadata": {
  "kernelspec": {
   "display_name": "Python 3 (ipykernel)",
   "language": "python",
   "name": "python3"
  },
  "language_info": {
   "codemirror_mode": {
    "name": "ipython",
    "version": 3
   },
   "file_extension": ".py",
   "mimetype": "text/x-python",
   "name": "python",
   "nbconvert_exporter": "python",
   "pygments_lexer": "ipython3",
   "version": "3.13.7"
  }
 },
 "nbformat": 4,
 "nbformat_minor": 5
}

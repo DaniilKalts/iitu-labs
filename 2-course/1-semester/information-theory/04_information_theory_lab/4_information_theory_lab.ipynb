{
 "cells": [
  {
   "cell_type": "markdown",
   "id": "15c11a6d-7f8e-499c-8df8-0a526b7760ae",
   "metadata": {},
   "source": [
    "### Step 1 — Imports & sample data\n",
    "We will prepare two sources: a random string and a repetitive patterned string to illustrate LZ77\n",
    "behavior"
   ]
  },
  {
   "cell_type": "code",
   "execution_count": 23,
   "id": "40eefd08-f9ed-46fc-bce7-369dd9f58ca8",
   "metadata": {},
   "outputs": [
    {
     "data": {
      "text/plain": [
       "(2000, 2000)"
      ]
     },
     "execution_count": 23,
     "metadata": {},
     "output_type": "execute_result"
    }
   ],
   "source": [
    "import random\n",
    "random.seed(0)  # fix RNG for reproducible results\n",
    "\n",
    "def random_string(n=2000, alphabet='abcdefghijklmnopqrstuvwxyz '):\n",
    "    \"\"\"Return a length-n string of pseudo-random chars from alphabet (deterministic due to seed).\"\"\"\n",
    "    return ''.join(random.choice(alphabet) for _ in range(n))  # pick n random chars and join\n",
    "\n",
    "def repetitive_string(n=2000):\n",
    "    \"\"\"Return a length-n string made by repeating the pattern 'abracadabra '.\"\"\"\n",
    "    pattern = 'abracadabra '  # base repeating pattern (length 12)\n",
    "    s = (pattern * (n // len(pattern) + 1))[:n]  # repeat enough times, then slice to n\n",
    "    return s\n",
    "\n",
    "S_rand = random_string(2000)  # pseudo-random 2000-char string\n",
    "S_rep = repetitive_string(2000)  # periodic 2000-char string\n",
    "\n",
    "len(S_rand), len(S_rep)  # sanity check: both should be exactly 2000"
   ]
  },
  {
   "cell_type": "markdown",
   "id": "65af0aa3-cb22-498e-b889-d680ad647234",
   "metadata": {},
   "source": [
    "### Step 2 — LZ77 encoder (sliding-window longest match)\n",
    "We search backward within a finite window to find the longest match with the lookahead buffer.\n",
    "We output a triple (offset, length, next_symbol). An offset of 0 and length 0 means the symbol is\n",
    "new and we output it directly via next_symbol."
   ]
  },
  {
   "cell_type": "code",
   "execution_count": 24,
   "id": "e2a371ea-e9af-46cd-a1b4-31d5c9ce2328",
   "metadata": {},
   "outputs": [
    {
     "data": {
      "text/plain": [
       "[(0, 0, 'a'), (0, 0, 'b'), (2, 3, 'a'), (5, 4, 'b'), (7, 1, '')]"
      ]
     },
     "execution_count": 24,
     "metadata": {},
     "output_type": "execute_result"
    }
   ],
   "source": [
    "def lz77_encode(s, window_size=128, lookahead_size=32):\n",
    "    \"\"\"Encode string s into LZ77 triples (offset, length, next_symbol).\"\"\"\n",
    "    i = 0                     # current position in s\n",
    "    out = []                  # output list of triples\n",
    "    n = len(s)\n",
    "\n",
    "    while i < n:\n",
    "        best_len = 0          # length of best match found so far\n",
    "        best_off = 0          # offset (distance back) of best match\n",
    "        start_hist = max(0, i - window_size)  # left bound of search window\n",
    "\n",
    "        # Scan history window [start_hist, i) for the longest match with lookahead\n",
    "        for j in range(start_hist, i):\n",
    "            k = 0\n",
    "            # Extend the match as long as chars are equal and within limits\n",
    "            while (k < lookahead_size and i + k < n and s[j + k] == s[i + k]):\n",
    "                k += 1\n",
    "            # Keep the best (longest) match\n",
    "            if k > best_len:\n",
    "                best_len = k\n",
    "                best_off = i - j\n",
    "            # Early exit if lookahead is fully matched\n",
    "            if best_len == lookahead_size:\n",
    "                break\n",
    "\n",
    "        # Next literal symbol after the matched run ('' if at end)\n",
    "        next_sym = s[i + best_len] if i + best_len < n else ''\n",
    "        out.append((best_off, best_len, next_sym))  # emit triple\n",
    "        i += best_len + 1       # advance past the match and the next symbol\n",
    "\n",
    "    return out\n",
    "\n",
    "# Example: encode a short string with a small window/lookahead\n",
    "triples = lz77_encode('ababaabababa', window_size=8, lookahead_size=6)\n",
    "triples[:6]  # first 6 triples (offset, length, next_symbol)"
   ]
  },
  {
   "cell_type": "markdown",
   "id": "bd30b2e2-5d7e-4cba-ac9a-1232bb5ef661",
   "metadata": {},
   "source": [
    "### Step 3 — LZ77 decoder\n",
    "Decoder reconstructs the original string by copying 'length' characters from 'offset' back from the\n",
    "current end and then appending the next_symbol (if present)."
   ]
  },
  {
   "cell_type": "code",
   "execution_count": 25,
   "id": "2348ce2a-d885-451f-bf93-180179369503",
   "metadata": {},
   "outputs": [
    {
     "name": "stdout",
     "output_type": "stream",
     "text": [
      "Round-trip OK? True\n"
     ]
    }
   ],
   "source": [
    "def lz77_decode(triples):\n",
    "    \"\"\"Decode LZ77 triples (offset, length, next_symbol) back to a string.\"\"\"\n",
    "    out = []  # grows as a list of chars for efficient appends\n",
    "    for off, ln, c in triples:\n",
    "        if off == 0 and ln == 0:\n",
    "            out.append(c)  # literal (no back-reference)\n",
    "        else:\n",
    "            start = len(out) - off          # where to start copying from\n",
    "            for k in range(ln):             # copy 'ln' chars from the history\n",
    "                out.append(out[start + k])\n",
    "            if c:                            # then append the next literal (if any)\n",
    "                out.append(c)\n",
    "    return ''.join(out)  # join all chars into the final string\n",
    "\n",
    "\n",
    "# Round-trip test (encode -> decode)\n",
    "s = 'ababaabababa'\n",
    "enc = lz77_encode(s, window_size=8, lookahead_size=6)  # reuse the encoder above\n",
    "dec = lz77_decode(enc)\n",
    "print('Round-trip OK?', dec == s)  # should be True if encoder/decoder agree"
   ]
  },
  {
   "cell_type": "markdown",
   "id": "3b28751c-97aa-4159-8573-ed96d4401f43",
   "metadata": {},
   "source": [
    "### Step 4 — Bit cost model & metrics\n",
    "To estimate compressed size (without writing a full bitstream), assume fixed-size fields:\n",
    "⌈log2(window_size+1)⌉ bits for offset, ⌈log2(lookahead_size+1)⌉ bits for length, and 8 bits for\n",
    "next_symbol (ASCII). This is a simplification but good for comparison."
   ]
  },
  {
   "cell_type": "code",
   "execution_count": 27,
   "id": "c90a59c8-e8aa-4a6e-b6b8-e284e842f9d2",
   "metadata": {},
   "outputs": [
    {
     "data": {
      "text/plain": [
       "{'triples': 7,\n",
       " 'compressed_bits': 132,\n",
       " 'raw_bits': 184,\n",
       " 'ratio': 0.717391304347826}"
      ]
     },
     "execution_count": 27,
     "metadata": {},
     "output_type": "execute_result"
    }
   ],
   "source": [
    "import math\n",
    "\n",
    "def bit_cost(triples, window_size, lookahead_size, alphabet_bits=8):\n",
    "    \"\"\"Compute total bit size of LZ77 triples given field widths.\"\"\"\n",
    "    # Bits to encode offset and length (include +1 for zero values)\n",
    "    b_off = math.ceil(math.log2(window_size + 1))     # offset field width\n",
    "    b_len = math.ceil(math.log2(lookahead_size + 1))  # length field width\n",
    "    total_bits = 0\n",
    "    for off, ln, c in triples:\n",
    "        # offset + length + optional next symbol (if not end-of-stream '')\n",
    "        total_bits += b_off + b_len + (alphabet_bits if c != '' else 0)\n",
    "    return total_bits\n",
    "\n",
    "def compress_and_report(s, window_size=128, lookahead_size=32):\n",
    "    \"\"\"Run LZ77, estimate bit cost, and return a small report.\"\"\"\n",
    "    enc = lz77_encode(s, window_size, lookahead_size)            # encode to triples\n",
    "    bits = bit_cost(enc, window_size, lookahead_size, 8)         # estimated bits\n",
    "    raw_bits = len(s) * 8                                        # 8 bits per char\n",
    "    ratio = bits / raw_bits if raw_bits > 0 else float('inf')    # compression ratio\n",
    "    return {\n",
    "        'triples': len(enc),             # number of emitted triples\n",
    "        'compressed_bits': bits,         # estimated compressed size (bits)\n",
    "        'raw_bits': raw_bits,            # original size (bits)\n",
    "        'ratio': ratio                   # <1 is good compression, >1 is expansion\n",
    "    }\n",
    "\n",
    "# Example usage\n",
    "report = compress_and_report('abracadabra abracadabra', 64, 16)\n",
    "report  # quick look at metrics for the teacher"
   ]
  },
  {
   "cell_type": "markdown",
   "id": "5716aece-717f-4eed-b516-289e2e776cf7",
   "metadata": {},
   "source": [
    "### Step 5 — Compare random vs repetitive strings\n",
    "Run the encoder on both sources and compare compressed size and ratio. LZ77 should compress\n",
    "the repetitive string substantially better than the random one."
   ]
  },
  {
   "cell_type": "code",
   "execution_count": 28,
   "id": "9165ca12-6f55-4a57-a8d1-b634e692ba4c",
   "metadata": {},
   "outputs": [
    {
     "name": "stdout",
     "output_type": "stream",
     "text": [
      "Repetitive: {'triples': 67, 'compressed_bits': 1466, 'raw_bits': 16000, 'ratio': 0.091625}\n",
      "Random:  {'triples': 942, 'compressed_bits': 20716, 'raw_bits': 16000, 'ratio': 1.29475}\n"
     ]
    }
   ],
   "source": [
    "cfg = dict(window_size=128, lookahead_size=32)  # LZ77 config (search/lookahead sizes)\n",
    "rep_metrics = compress_and_report(S_rep, **cfg)  # metrics for the repetitive string\n",
    "rnd_metrics = compress_and_report(S_rand, **cfg) # metrics for the random string\n",
    "\n",
    "# Expectation: S_rep compresses better (lower ratio) than S_rand\n",
    "print('Repetitive:', rep_metrics)  # shows #triples, compressed_bits, raw_bits, ratio\n",
    "print('Random: ', rnd_metrics)     # compare ratios: <1 = compression, >1 = expansion"
   ]
  },
  {
   "cell_type": "markdown",
   "id": "8c40ec99-091a-4cfc-8fce-814bb90ebec6",
   "metadata": {},
   "source": [
    "### Step 6 — Parameter study (window/lookahead)\n",
    "Vary window_size and lookahead_size to see their effect on compression. Larger windows help\n",
    "find longer back‑references but increase header bit cost per triple."
   ]
  },
  {
   "cell_type": "code",
   "execution_count": 29,
   "id": "a2785bf7-f2f9-417a-aadd-b52019073931",
   "metadata": {},
   "outputs": [
    {
     "name": "stdout",
     "output_type": "stream",
     "text": [
      "Best (repetitive):\n",
      "{'window': 32, 'look': 64, 'ratio': 0.0481}\n",
      "{'window': 64, 'look': 64, 'ratio': 0.0504}\n",
      "{'window': 128, 'look': 64, 'ratio': 0.0527}\n",
      "{'window': 256, 'look': 64, 'ratio': 0.055}\n",
      "{'window': 512, 'look': 64, 'ratio': 0.0573}\n",
      "\n",
      "Best (random):\n",
      "{'window': 512, 'look': 8, 'ratio': 1.1151}\n",
      "{'window': 256, 'look': 8, 'ratio': 1.1603}\n",
      "{'window': 512, 'look': 16, 'ratio': 1.1658}\n",
      "{'window': 128, 'look': 8, 'ratio': 1.177}\n",
      "{'window': 64, 'look': 8, 'ratio': 1.1958}\n"
     ]
    }
   ],
   "source": [
    "def sweep_params(s, windows=(32,64,128,256,512), looks=(8,16,32,64)):\n",
    "    \"\"\"Grid-search LZ77 params; return rows of (win, look, triples, bits, raw, ratio).\"\"\"\n",
    "    rows = []\n",
    "    for w in windows:                 # iterate window sizes\n",
    "        for L in looks:               # iterate lookahead sizes\n",
    "            m = compress_and_report(s, w, L)  # run encoder + metrics\n",
    "            rows.append((w, L, m['triples'], m['compressed_bits'], m['raw_bits'], m['ratio']))\n",
    "    return rows\n",
    "\n",
    "# Evaluate across parameter grid for both strings\n",
    "rows_rep = sweep_params(S_rep)\n",
    "rows_rnd = sweep_params(S_rand)\n",
    "\n",
    "# Pick top-5 configurations with the lowest ratio (best compression)\n",
    "rows_rep_sorted = sorted(rows_rep, key=lambda r: r[-1])[:5]\n",
    "rows_rnd_sorted = sorted(rows_rnd, key=lambda r: r[-1])[:5]\n",
    "\n",
    "print('Best (repetitive):')\n",
    "for r in rows_rep_sorted:\n",
    "    print({'window': r[0], 'look': r[1], 'ratio': round(r[-1], 4)})\n",
    "\n",
    "print('\\nBest (random):')\n",
    "for r in rows_rnd_sorted:\n",
    "    print({'window': r[0], 'look': r[1], 'ratio': round(r[-1], 4)})"
   ]
  },
  {
   "cell_type": "code",
   "execution_count": null,
   "id": "cb9ba727-3d11-4456-a223-b52c35e6fcb5",
   "metadata": {},
   "outputs": [],
   "source": []
  }
 ],
 "metadata": {
  "kernelspec": {
   "display_name": "Python 3 (ipykernel)",
   "language": "python",
   "name": "python3"
  },
  "language_info": {
   "codemirror_mode": {
    "name": "ipython",
    "version": 3
   },
   "file_extension": ".py",
   "mimetype": "text/x-python",
   "name": "python",
   "nbconvert_exporter": "python",
   "pygments_lexer": "ipython3",
   "version": "3.13.7"
  }
 },
 "nbformat": 4,
 "nbformat_minor": 5
}

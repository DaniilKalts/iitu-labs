{
 "cells": [
  {
   "cell_type": "markdown",
   "id": "faa93d42",
   "metadata": {},
   "source": [
    "### Step 1 - Set up imports"
   ]
  },
  {
   "cell_type": "code",
   "execution_count": 4,
   "id": "c920d76c",
   "metadata": {},
   "outputs": [],
   "source": [
    "# numpy - a package to work with arrays\n",
    "import numpy as np\n",
    "\n",
    "# math - a package to work with math\n",
    "import math\n",
    "\n",
    "# collections - a package to work with pre-built data structures\n",
    "# Counter - a dictiory where each pair represents a character and how many times did it occur\n",
    "from collections import Counter\n",
    "\n",
    "# matplotlib - a package to visualize data\n",
    "import matplotlib.pyplot as plt"
   ]
  },
  {
   "cell_type": "markdown",
   "id": "074e1265",
   "metadata": {},
   "source": [
    "### Step 2 - Choose and clean your text"
   ]
  },
  {
   "cell_type": "code",
   "execution_count": 6,
   "id": "84563fb2",
   "metadata": {},
   "outputs": [
    {
     "data": {
      "text/plain": [
       "170"
      ]
     },
     "execution_count": 6,
     "metadata": {},
     "output_type": "execute_result"
    }
   ],
   "source": [
    "# Just a random text\n",
    "sample_text = \"\"\"\n",
    "Alice was beginning to get very tired of sitting by her sister on the bank,\n",
    "and of having nothing to do: once or twice she had peeped into the book her\n",
    "sister was reading...\n",
    "\"\"\"\n",
    "\n",
    "'''\n",
    "isalpha - checks if a character belongs to English alphabet\n",
    "isspace - checks if a character is space\n",
    "\n",
    "chars - a list of characters (alphabetic or space)\n",
    "'''\n",
    "chars = [c.lower() for c in sample_text if c.isalpha() or c.isspace()]\n",
    "len(chars)"
   ]
  },
  {
   "cell_type": "markdown",
   "id": "cd330428",
   "metadata": {},
   "source": [
    "### Step 3 - Build the empirical PMF (Probability Math Function)"
   ]
  },
  {
   "cell_type": "code",
   "execution_count": 8,
   "id": "6f994aa0",
   "metadata": {},
   "outputs": [
    {
     "name": "stdout",
     "output_type": "stream",
     "text": [
      "Total characters: 22\n",
      "Unique characters: 22\n"
     ]
    }
   ],
   "source": [
    "# PMF (Probability Math Function) - returns a probability of a discrete value\n",
    "def pmf_from_sequence(seq):\n",
    "    # 1 step: count how many times does each character occur\n",
    "    occurrences = Counter(seq)\n",
    "\n",
    "    # 2 step: sum up all values (occurances) to a total number of characters\n",
    "    total = sum(occurrences.values())\n",
    "\n",
    "    # 3 step:\n",
    "    # - get symbols from sequence in ascending order\n",
    "    #\n",
    "    # - convert a comprehension list to numpy array of type float\n",
    "    chars = sorted(occurrences.keys())\n",
    "    ps = np.array([occurrences[s] / total for s in chars], dtype=float)\n",
    "    \n",
    "    return chars, ps, occurrences, total\n",
    "\n",
    "# _ ignores unsed variables\n",
    "chars, ps, occurrences, total = pmf_from_sequence(chars)\n",
    "\n",
    "print(\"Total characters:\", total)\n",
    "print(\"Unique characters:\", len(chars))"
   ]
  },
  {
   "cell_type": "markdown",
   "id": "10232258",
   "metadata": {},
   "source": [
    "### Step 4 - Compute Schannon Entropy H(X)"
   ]
  },
  {
   "cell_type": "code",
   "execution_count": 10,
   "id": "5a542a5f",
   "metadata": {},
   "outputs": [
    {
     "name": "stdout",
     "output_type": "stream",
     "text": [
      "Empirical text entropy: 4.4594 bits/symbol\n"
     ]
    }
   ],
   "source": [
    "def entropy_from_pmf(ps):\n",
    "    # convert probabilities to numpy array of floats\n",
    "    ps = np.asarray(ps, float)\n",
    "\n",
    "    # remove zero probabilities\n",
    "    ps = ps[ps > 0]\n",
    "\n",
    "    # calculate and return a Shannon entropy\n",
    "    return float(-np.sum(ps * np.log2(ps)))\n",
    "\n",
    "# get shannon entropy\n",
    "H_emp = entropy_from_pmf(ps)\n",
    "\n",
    "# print Shannon entropy rounded to 4 decimal places\n",
    "print(f\"Empirical text entropy: {H_emp:.4f} bits/symbol\")"
   ]
  },
  {
   "cell_type": "markdown",
   "id": "99567510",
   "metadata": {},
   "source": [
    "### Step 5 - Plot Surprise (-log(2)p) for frequent symbols"
   ]
  },
  {
   "cell_type": "code",
   "execution_count": 12,
   "id": "ab6da18c",
   "metadata": {},
   "outputs": [
    {
     "data": {
      "image/png": "[encoded data removed]",
      "text/plain": [
       "<Figure size 640x480 with 1 Axes>"
      ]
     },
     "metadata": {},
     "output_type": "display_data"
    }
   ],
   "source": [
    "# a dictionary: key(char) : value(self-information of that char)\n",
    "surprise = {c: -math.log2(p) for c, p in zip(chars, ps)}\n",
    "\n",
    "# a list of top-10 characters based on occurrences\n",
    "top_10 = sorted(chars, key=lambda c: occurrences[c], reverse=True)[:10]\n",
    "\n",
    "# create a new figure\n",
    "plt.figure()\n",
    "\n",
    "# draw a bar chart with top-10 character frequencies\n",
    "plt.bar([repr(c) for c in top_10], [surprise[c] for c in top_10])\n",
    "\n",
    "# add a title\n",
    "plt.title(\"Surprise (−log2 p) of Top-10 Charaacters\")\n",
    "\n",
    "# add y label\n",
    "plt.ylabel(\"bits\")\n",
    "\n",
    "# add x label\n",
    "plt.xlabel(\"symbol\")\n",
    "\n",
    "# show the chart\n",
    "plt.show()"
   ]
  },
  {
   "cell_type": "markdown",
   "id": "70f25c33",
   "metadata": {},
   "source": [
    "### Step 6 - Compare with a biased coin (empirical vs theory)"
   ]
  },
  {
   "cell_type": "code",
   "execution_count": 29,
   "id": "c182f0f0",
   "metadata": {},
   "outputs": [
    {
     "name": "stdout",
     "output_type": "stream",
     "text": [
      "Empirical:  0.8410 bits\n",
      "Theoretical:0.8415 bits\n",
      "Δ = -0.0005 bits\n"
     ]
    }
   ],
   "source": [
    "'''\n",
    "A biased coin is also known as unfar coin (one side more likely)\n",
    "\n",
    "p - probability of one side\n",
    "n - a number of coin flips\n",
    "seed - a number to initialize a random generator function\n",
    "\n",
    "Returns: numpy array of 0/1 (1 means \"heads\"), length == n\n",
    "'''\n",
    "def biased_coin(p=0.73, n=100_000, seed=42):\n",
    "    # a random generator of floats from 0 to 1\n",
    "    rng = np.random.default_rng(seed)\n",
    "\n",
    "    # Vectorized sampling:\n",
    "    #  - rng.random(n) generates n floats in [0, 1).\n",
    "    #  - (rng.random(n) < p) compares each float to p -> boolean array (True ≈ probability p).\n",
    "    #  - .astype(int) converts True->1 and False->0, producing an int array of 0/1.\n",
    "    return (rng.random(n) < p).astype(int)\n",
    "\n",
    "def bernoulli_entropy(p):\n",
    "    if p in (0.0, 1.0):\n",
    "        return 0.0\n",
    "    return -(p * math.log2(p) + (1 - p) * math.log2(1 - p))\n",
    "\n",
    "p, n, seed = 0.73, 100_000, 42\n",
    "\n",
    "flips = biased_coin(p=p, n=n, seed=seed)\n",
    "_, ps_coin, _, _ = pmf_from_sequence(flips.tolist())\n",
    "\n",
    "H_emp = entropy_from_pmf(ps_coin)\n",
    "H_th = bernoulli_entropy(p)\n",
    "\n",
    "print(f\"Empirical:  {H_emp:.4f} bits\")\n",
    "print(f\"Theoretical:{H_th:.4f} bits\")\n",
    "print(f\"Δ = {H_emp - H_th:+.4f} bits\")"
   ]
  }
 ],
 "metadata": {
  "kernelspec": {
   "display_name": "Python 3 (ipykernel)",
   "language": "python",
   "name": "python3"
  },
  "language_info": {
   "codemirror_mode": {
    "name": "ipython",
    "version": 3
   },
   "file_extension": ".py",
   "mimetype": "text/x-python",
   "name": "python",
   "nbconvert_exporter": "python",
   "pygments_lexer": "ipython3",
   "version": "3.13.7"
  }
 },
 "nbformat": 4,
 "nbformat_minor": 5
}

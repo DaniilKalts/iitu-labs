{
 "cells": [
  {
   "cell_type": "markdown",
   "id": "39deac58-4694-4b29-9378-6bfa6d6b3fd5",
   "metadata": {},
   "source": [
    "### Step 1 — Imports & sample text\n",
    "Use any text; you can later try word‑level tokens. For now, use characters."
   ]
  },
  {
   "cell_type": "code",
   "execution_count": 1,
   "id": "beef5e37-b674-4bcc-b614-92d3296ab54c",
   "metadata": {},
   "outputs": [],
   "source": [
    "import math\n",
    "from collections import Counter\n",
    "import heapq\n",
    "\n",
    "text = \"\"\"\n",
    "to be, or not to be, that is the question—\n",
    "whether 'tis nobler in the mind to suffer\n",
    "the slings and arrows of outrageous fortune\n",
    "\"\"\""
   ]
  },
  {
   "cell_type": "markdown",
   "id": "1513e293-d74e-4fa1-8832-9e6b78f970be",
   "metadata": {},
   "source": [
    "### Step 2 — Symbol frequencies & entropy\n",
    "Build the PMF over characters and compute H(X) in bits/symbol."
   ]
  },
  {
   "cell_type": "code",
   "execution_count": 5,
   "id": "c2bba8c1-ec05-44d4-bf03-87cf3bb34fd2",
   "metadata": {},
   "outputs": [
    {
     "name": "stdout",
     "output_type": "stream",
     "text": [
      "Symbols: 23 Total: 130 Entropy: 4.016 bits/sym\n"
     ]
    }
   ],
   "source": [
    "def pmf_from_text(s, keep_space=True):\n",
    "    if not keep_space:\n",
    "        s = ''.join(ch for ch in s if not ch.isspace())\n",
    "    counts = Counter(s)\n",
    "    total = sum(counts.values())\n",
    "    pmf = {sym: c/total for sym, c in counts.items()}\n",
    "    return pmf, counts, total\n",
    "\n",
    "def entropy(pmf):\n",
    "    return -sum(p * math.log2(p) for p in pmf.values() if p > 0)\n",
    "    \n",
    "pmf, counts, total = pmf_from_text(text, keep_space=True)\n",
    "H = entropy(pmf)\n",
    "print(f\"Symbols: {len(pmf)} Total: {total} Entropy: {H:.3f} bits/sym\")"
   ]
  },
  {
   "cell_type": "markdown",
   "id": "bf55192f-ab7f-4608-9e04-c46491806e5a",
   "metadata": {},
   "source": [
    "### Step 3 — Build Huffman tree & codebook\n",
    "We construct a binary tree by repeatedly merging the two least‑probable nodes."
   ]
  },
  {
   "cell_type": "code",
   "execution_count": 12,
   "id": "9c8fb446-6911-4e09-97b7-59497f08e0d3",
   "metadata": {},
   "outputs": [
    {
     "name": "stdout",
     "output_type": "stream",
     "text": [
      "{'i': '0000', 'h': '0001', 'e': '001', 't': '010', '\\n': '01100', \"'\": '0110100', '—': '0110101', 'l': '011011', 'a': '01110', ',': '011110'}\n"
     ]
    }
   ],
   "source": [
    "class Node:\n",
    "    __slots__ = ('prob','sym','left','right')\n",
    "    def __init__(self, prob, sym=None, left=None, right=None):\n",
    "        self.prob = prob;\n",
    "        self.sym = sym;\n",
    "        self.left = left;\n",
    "        self.right = right\n",
    "    def __lt__(self, other): \n",
    "        return self.prob < other.prob\n",
    "        \n",
    "def huffman_code(pmf):\n",
    "    heap = [Node(p, sym=s) for s,p in pmf.items()]\n",
    "    heapq.heapify(heap)\n",
    "    if len(heap) == 1:\n",
    "        return {heap[0].sym: '0'}\n",
    "    while len(heap) > 1:\n",
    "        a = heapq.heappop(heap)\n",
    "        b = heapq.heappop(heap)\n",
    "        heapq.heappush(heap, Node(a.prob + b.prob, left=a, right=b))\n",
    "    root = heap[0]\n",
    "    code = {}\n",
    "    def walk(node, bits=''):\n",
    "        if node.sym is not None:\n",
    "            code[node.sym] = bits or '0'\n",
    "        else:\n",
    "            walk(node.left, bits+'0')\n",
    "            walk(node.right, bits+'1')\n",
    "    walk(root)\n",
    "    return code\n",
    "    \n",
    "code = huffman_code(pmf)\n",
    "print(dict(list(code.items())[:10]))"
   ]
  },
  {
   "cell_type": "markdown",
   "id": "211645a0-9578-4fcc-9a1b-db7cfb2af39d",
   "metadata": {},
   "source": [
    "### Step 4 — Encode & decode\n",
    "Use the codebook to map symbols to bits, and then invert for decoding."
   ]
  },
  {
   "cell_type": "code",
   "execution_count": 7,
   "id": "fdda2531-bd78-4cf4-b36f-528cc787ad5b",
   "metadata": {},
   "outputs": [
    {
     "name": "stdout",
     "output_type": "stream",
     "text": [
      "Round-trip OK? True\n"
     ]
    }
   ],
   "source": [
    "def encode(data, code):\n",
    "    return ''.join(code[ch] for ch in data)\n",
    "    \n",
    "def decode(bitstring, code):\n",
    "    inv = {v:k for k,v in code.items()}\n",
    "    out = []\n",
    "    buf = ''\n",
    "    for b in bitstring:\n",
    "        buf += b\n",
    "        if buf in inv:\n",
    "            out.append(inv[buf])\n",
    "            buf = ''\n",
    "    return ''.join(out)\n",
    "    \n",
    "bitstream = encode(text, code)\n",
    "decoded = decode(bitstream, code)\n",
    "print('Round-trip OK?', decoded == text)"
   ]
  },
  {
   "cell_type": "markdown",
   "id": "e5c6dfe8-9386-42d8-a3b7-87f04f23c385",
   "metadata": {},
   "source": [
    "### Step 5 — Evaluate compression\n",
    "Compute average code length L_avg, theoretical bound H(X), and compression vs an 8‑bit\n",
    "baseline."
   ]
  },
  {
   "cell_type": "code",
   "execution_count": 11,
   "id": "394197c6-6eef-4492-a1af-953c64aa807d",
   "metadata": {},
   "outputs": [
    {
     "name": "stdout",
     "output_type": "stream",
     "text": [
      "L_avg = 4.054 bits/sym | Entropy H = 4.016 bits/sym | Redundancy = +0.038 bits/sym\n",
      "Total bits (Huffman) = 527 | Fixed 8-bit = 1040 | Compression ratio = 0.507\n"
     ]
    }
   ],
   "source": [
    "def average_code_length(pmf, code):\n",
    "    return sum(len(code[s]) * p for s,p in pmf.items())\n",
    "\n",
    "Lavg = average_code_length(pmf, code)\n",
    "bits_huffman = len(bitstream)\n",
    "bits_fixed8 = len(text) * 8\n",
    "ratio_vs_8bit = bits_huffman / bits_fixed8 if bits_fixed8>0 else float('inf')\n",
    "redundancy = Lavg - H\n",
    "\n",
    "print(f\"L_avg = {Lavg:.3f} bits/sym | Entropy H = {H:.3f} bits/sym | Redundancy = {redundancy:+.3f} bits/sym\")\n",
    "print(f\"Total bits (Huffman) = {bits_huffman} | Fixed 8-bit = {bits_fixed8} | Compression ratio = {ratio_vs_8bit:.3f}\")"
   ]
  }
 ],
 "metadata": {
  "kernelspec": {
   "display_name": "Python 3 (ipykernel)",
   "language": "python",
   "name": "python3"
  },
  "language_info": {
   "codemirror_mode": {
    "name": "ipython",
    "version": 3
   },
   "file_extension": ".py",
   "mimetype": "text/x-python",
   "name": "python",
   "nbconvert_exporter": "python",
   "pygments_lexer": "ipython3",
   "version": "3.13.7"
  }
 },
 "nbformat": 4,
 "nbformat_minor": 5
}
